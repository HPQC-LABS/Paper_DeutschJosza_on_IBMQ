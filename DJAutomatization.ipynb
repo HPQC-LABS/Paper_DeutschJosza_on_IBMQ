{
 "cells": [
  {
   "cell_type": "code",
   "execution_count": 5,
   "metadata": {},
   "outputs": [
    {
     "name": "stdout",
     "output_type": "stream",
     "text": [
      "\f",
      "\n"
     ]
    }
   ],
   "source": [
    "# initialization\n",
    "import matplotlib.pyplot as plt\n",
    "%matplotlib inline\n",
    "import numpy as np\n",
    "\n",
    "# importing Qiskit\n",
    "from qiskit import IBMQ, BasicAer\n",
    "from qiskit.providers.ibmq import least_busy\n",
    "from qiskit import QuantumCircuit, ClassicalRegister, QuantumRegister, execute\n",
    "\n",
    "# import basic plot tools\n",
    "from qiskit.tools.visualization import plot_histogram\n",
    "\n",
    "IBMQ.load_account()\n",
    "provider = IBMQ.get_provider(hub='ibm-q')\n",
    "provider.backends() "
   ]
  },
  {
   "cell_type": "code",
   "execution_count": 4,
   "metadata": {},
   "outputs": [
    {
     "name": "stdout",
     "output_type": "stream",
     "text": [
      "\f",
      "\n"
     ]
    }
   ],
   "source": [
    "for backend in provider.backends():\n",
    "    print(backend.status())"
   ]
  },
  {
   "cell_type": "code",
   "execution_count": 3,
   "metadata": {},
   "outputs": [
    {
     "name": "stdout",
     "output_type": "stream",
     "text": [
      "\f",
      "\n"
     ]
    }
   ],
   "source": [
    "import csv\n",
    "\n",
    "Fidelity=[]\n",
    "dimension=0\n",
    "Trials=8192\n",
    "counter=0\n",
    "\n",
    "Repetitions=50 #Set the number of repetitions of the experiment (8192 shots preferred) per chip per number of qubits \n",
    "QSet=[1,2,3,4,5] #Represent the set of the number of qubits to be evaluated\n",
    "\n",
    "#QuantumChips=['ibmqx2','ibmq_16_melbourne','ibmq_vigo','ibmq_ourense','ibmq_london','ibmq_burlington','ibmq_essex']  #Full set of chips\n",
    "QuantumChips=['ibmq_burlington','ibmq_essex','ibmq_london']#'ibmq_london']#,'ibmq_essex'] #Partial set of chips\n",
    "\n",
    "Generalkeys=['Run', '# of qubits', 'Chip', '# of shots', 'Fidelity', 'Runtime (ms)', 'Job ID']\n",
    "\n",
    "for n in QSet:\n",
    "    qubits=n\n",
    "    Possibleresults=[]\n",
    "    for num in range(2**n):\n",
    "        Possibleresults.append(bin(num)[2:].zfill(n))\n",
    "    Possibleresults.reverse()\n",
    "\n",
    "    wstring=[]\n",
    "    for ky in Possibleresults:\n",
    "        wstring.append(str(ky))\n",
    "    \n",
    "    Partnkeys=Generalkeys+wstring\n",
    "    \n",
    "    import csv\n",
    "    \n",
    "    nameN='Results'+str(qubits)+'.csv'\n",
    "    with open(nameN,'w',newline='') as newFile:\n",
    "        newFileWriter = csv.writer(newFile)\n",
    "        newFileWriter.writerow(Partnkeys)\n",
    "    \n",
    "        \n",
    "            \n",
    "    for chip in QuantumChips:\n",
    "     \n",
    "        for k in range (0,Repetitions):\n",
    "            Km=k\n",
    "            Stfidel=''\n",
    "            dimension=n\n",
    "            for j in range (n):\n",
    "                Stfidel=Stfidel+'1' \n",
    "    \n",
    "            qr = QuantumRegister(n)\n",
    "            cr = ClassicalRegister(n)\n",
    "    \n",
    "            djCircuit = QuantumCircuit(qr, cr)\n",
    "            barriers = True\n",
    "\n",
    "            # Apply barrier \n",
    "            if barriers:\n",
    "                djCircuit.barrier()\n",
    "\n",
    "            # Apply Hadamard gate\n",
    "            djCircuit.h(qr)    \n",
    "    \n",
    "            # Apply barrier \n",
    "            if barriers:\n",
    "                djCircuit.barrier()\n",
    "    \n",
    "            # Apply Z-gate \n",
    "            djCircuit.z(qr)  \n",
    "\n",
    "            # Apply barrier \n",
    "            if barriers:\n",
    "                djCircuit.barrier()\n",
    "\n",
    "            # Apply Hadamard gate\n",
    "            djCircuit.h(qr) \n",
    "\n",
    "            # Measure the register\n",
    "    \n",
    "            for i in range(n):\n",
    "                djCircuit.measure(qr[i], cr[i])\n",
    "        \n",
    "            real_device = provider.get_backend(chip)\n",
    "            #real_device = provider.get_backend('ibmq_burlington')\n",
    "            job_exp = execute(djCircuit, backend=real_device, shots=Trials, memory=True)\n",
    "   \n",
    "            exp_result = job_exp.result()\n",
    "\n",
    "            exp_measurement_result = exp_result.get_counts(djCircuit)\n",
    "        \n",
    "            counter=counter+1\n",
    "        \n",
    "            Fidelity.append(exp_measurement_result[Stfidel]/Trials)\n",
    "            for i in Possibleresults:\n",
    "                if i not in exp_measurement_result:\n",
    "                    exp_measurement_result.update({i: 0})\n",
    "            Ordic={}\n",
    "            for j in Possibleresults:\n",
    "                Ordic.update({j:exp_measurement_result.get(j,0)})\n",
    "            Quandiop={}\n",
    "            Quandiop={\"Run\":counter,\"# of qubits\":qubits,\"Chip\": str(real_device),\"# of shots\":Trials,\"Fidelity\": exp_measurement_result[Stfidel]/Trials,\"Runtime (ms)\":exp_result.time_taken}\n",
    "            Quandiop.update({\"Job ID\":job_exp.job_id()})\n",
    "            Quandiop.update(Ordic)\n",
    "            lia=[]\n",
    "            for j in Quandiop.values():\n",
    "                lia.append(j)\n",
    "            #with open('Results.csv', 'w', newline='') as file:\n",
    "            #    writer.writerow(lia)\n",
    "            print(Quandiop) #Manual verification of the process\n",
    "            with open(nameN, 'a', newline='') as newFile:\n",
    "                newFileWriter = csv.writer(newFile)\n",
    "                newFileWriter.writerow(lia)"
   ]
  },
  {
   "cell_type": "code",
   "execution_count": 27,
   "metadata": {},
   "outputs": [],
   "source": []
  }
 ],
 "metadata": {
  "kernelspec": {
   "display_name": "Python 3",
   "language": "python",
   "name": "python3"
  },
  "language_info": {
   "codemirror_mode": {
    "name": "ipython",
    "version": 3
   },
   "file_extension": ".py",
   "mimetype": "text/x-python",
   "name": "python",
   "nbconvert_exporter": "python",
   "pygments_lexer": "ipython3",
   "version": "3.7.4"
  }
 },
 "nbformat": 4,
 "nbformat_minor": 2
}
